{
  "cells": [
    {
      "cell_type": "markdown",
      "metadata": {
        "id": "XI6S_iq6a_74"
      },
      "source": [
        "QUESTÃO 1 (AV2 - PARTE 1)"
      ]
    },
    {
      "cell_type": "code",
      "execution_count": 1,
      "metadata": {
        "id": "UPmN8DyAZilL"
      },
      "outputs": [],
      "source": [
        "import numpy as np\n",
        "import matplotlib.pyplot as mtp\n"
      ]
    },
    {
      "cell_type": "code",
      "execution_count": 2,
      "metadata": {
        "colab": {
          "base_uri": "https://localhost:8080/"
        },
        "id": "YiXGEcybZmCB",
        "outputId": "3855d5a1-617e-42bc-eff6-b1250f62bf5b"
      },
      "outputs": [
        {
          "name": "stdout",
          "output_type": "stream",
          "text": [
            "[   10    50   100   500  1000  5000 10000]\n",
            "[   3.8    8.1   11.9   55.6   99.6  500.2 1006.1]\n"
          ]
        }
      ],
      "source": [
        "tamArq = np.array([10, 50, 100, 500, 1000, 5000, 10000])\n",
        "tamTempo = np.array([3.8, 8.1, 11.9, 55.6, 99.6, 500.2, 1006.1])\n",
        "\n",
        "print(tamArq)\n",
        "print(tamTempo)"
      ]
    },
    {
      "cell_type": "code",
      "execution_count": 3,
      "metadata": {
        "colab": {
          "base_uri": "https://localhost:8080/",
          "height": 312
        },
        "id": "Gy9t3fRxZvJX",
        "outputId": "067093a9-2e4d-4e4f-f7c6-3bbb9259fc70"
      },
      "outputs": [
        {
          "data": {
            "text/plain": [
              "[]"
            ]
          },
          "execution_count": 3,
          "metadata": {},
          "output_type": "execute_result"
        },
        {
          "data": {
            "image/png": "[encoded data removed]",
            "text/plain": [
              "<Figure size 432x288 with 1 Axes>"
            ]
          },
          "metadata": {
            "needs_background": "light"
          },
          "output_type": "display_data"
        }
      ],
      "source": [
        "mtp.scatter(tamArq, tamTempo)\n",
        "\n",
        "mtp.title(\"Gráfico de dispersão entre Tempo gasto x Tamanho do arquivo\")\n",
        "mtp.xlabel(\"Tamanho do arquivo\")\n",
        "mtp.ylabel(\"Tempo gasto\")\n",
        "mtp.plot()"
      ]
    },
    {
      "cell_type": "markdown",
      "metadata": {},
      "source": [
        "Agora precisamos calcular a reta de regressão.\n",
        "y = A + Bx"
      ]
    },
    {
      "cell_type": "code",
      "execution_count": 4,
      "metadata": {
        "id": "P9TtzPk3a6vo"
      },
      "outputs": [
        {
          "name": "stdout",
          "output_type": "stream",
          "text": [
            "86611800.0\n"
          ]
        }
      ],
      "source": [
        "#y = A + Bx\n",
        "#calcular Sxx\n",
        "#Soma de X\n",
        "i = 0\n",
        "auxSomaSxx = 0\n",
        "auxSomaSxx2 = 0\n",
        "while i < tamArq.__len__():\n",
        "    auxSomaSxx = auxSomaSxx + (tamArq[i]**2)\n",
        "    auxSomaSxx2 = auxSomaSxx2 + tamArq[i]\n",
        "    i = i + 1\n",
        "Sxx = auxSomaSxx - (((auxSomaSxx2)**2)/tamArq.__len__()) \n",
        "\n",
        "\n",
        "print(Sxx)"
      ]
    },
    {
      "cell_type": "code",
      "execution_count": 5,
      "metadata": {},
      "outputs": [
        {
          "name": "stdout",
          "output_type": "stream",
          "text": [
            "869922.4171428572\n"
          ]
        }
      ],
      "source": [
        "#Syy\n",
        "#Soma de y\n",
        "i = 0\n",
        "\n",
        "auxSomaSyy = 0\n",
        "auxSomaSyy2 = 0\n",
        "while i < tamTempo.__len__():\n",
        "    auxSomaSyy = auxSomaSyy + (tamTempo[i]**2)\n",
        "    auxSomaSyy2 = auxSomaSyy2 + tamTempo[i]\n",
        "    i = i + 1\n",
        "Syy = auxSomaSyy - (((auxSomaSyy2)**2)/tamTempo.__len__())\n",
        "\n",
        "print(Syy)"
      ]
    },
    {
      "cell_type": "code",
      "execution_count": 6,
      "metadata": {},
      "outputs": [
        {
          "name": "stdout",
          "output_type": "stream",
          "text": [
            "8680019.0\n"
          ]
        }
      ],
      "source": [
        "#Sxy\n",
        "#Soma conjunta de x e y\n",
        "i = 0\n",
        "\n",
        "auxSomaSxy = 0\n",
        "auxSomaSxy2 = auxSomaSxx2 * auxSomaSyy2\n",
        "while i < tamArq.__len__():\n",
        "    auxSomaSxy = auxSomaSxy + (tamArq[i]*tamTempo[i])\n",
        "    \n",
        "    i = i + 1\n",
        "\n",
        "Sxy = auxSomaSxy - ((auxSomaSxy2)/tamTempo.__len__())\n",
        "\n",
        "print(Sxy)"
      ]
    },
    {
      "cell_type": "markdown",
      "metadata": {},
      "source": [
        "Após calcularmos as somas vamos calcular a função y = a + bx\n",
        "Sabemos que: a = y - bx"
      ]
    },
    {
      "cell_type": "code",
      "execution_count": 7,
      "metadata": {},
      "outputs": [
        {
          "name": "stdout",
          "output_type": "stream",
          "text": [
            "0.10021751077797714\n"
          ]
        }
      ],
      "source": [
        "#calcular b\n",
        "b = Sxy/Sxx\n",
        "\n",
        "print(b)"
      ]
    },
    {
      "cell_type": "markdown",
      "metadata": {},
      "source": [
        "O número gerado para b é muito pequeno, pois o módulo do tempo (eixo y) é muito menor que o módulo do tamanho do arquivo."
      ]
    },
    {
      "cell_type": "code",
      "execution_count": 8,
      "metadata": {},
      "outputs": [
        {
          "name": "stdout",
          "output_type": "stream",
          "text": [
            "Média de y: 240.7571428571429\n",
            "Média de x: 2380.0\n",
            "2.239467205557304\n"
          ]
        }
      ],
      "source": [
        "#calcular a:\n",
        "y = tamTempo.mean()   #[int((tamTempo.__len__()/2))]\n",
        "x = tamArq.mean()     #[int((tamArq.__len__()/2))]\n",
        "\n",
        "a = y - b*x\n",
        "print(\"Média de y:\", y)\n",
        "print(\"Média de x:\", x)\n",
        "print(a)"
      ]
    },
    {
      "cell_type": "code",
      "execution_count": 9,
      "metadata": {},
      "outputs": [
        {
          "name": "stdout",
          "output_type": "stream",
          "text": [
            "y quando o x está na operação 7:  1004.4145749853286\n"
          ]
        }
      ],
      "source": [
        "y = a + b*x\n",
        "\n",
        "\n",
        "\n",
        "xK = tamArq[tamArq.__len__()-1]\n",
        "#para teste\n",
        "y = a + b*xK\n",
        "print(\"y quando o x está na operação 7: \", y)\n",
        "\n",
        "y = a + b*x\n"
      ]
    },
    {
      "cell_type": "code",
      "execution_count": 10,
      "metadata": {},
      "outputs": [
        {
          "data": {
            "text/plain": [
              "[<matplotlib.lines.Line2D at 0x1d699651f70>]"
            ]
          },
          "execution_count": 10,
          "metadata": {},
          "output_type": "execute_result"
        },
        {
          "data": {
            "image/png": "[encoded data removed]",
            "text/plain": [
              "<Figure size 432x288 with 1 Axes>"
            ]
          },
          "metadata": {
            "needs_background": "light"
          },
          "output_type": "display_data"
        }
      ],
      "source": [
        "xAux = np.linspace(0, 10000, 100)\n",
        "##Nessa linha fazemos o x ser uma serie de números para conseguirmos colocar \n",
        "##a reta y = a + b*x\n",
        "\n",
        "mtp.scatter(tamArq, tamTempo)\n",
        "mtp.xlabel(\"Tamanho do arquivo\")\n",
        "mtp.ylabel(\"Tempo gasto\")\n",
        "mtp.plot(xAux, a + b*xAux)\n",
        "\n",
        "#Aqui colocamos a reta no gráfico de dispersão\n"
      ]
    },
    {
      "cell_type": "markdown",
      "metadata": {},
      "source": [
        "Feito tudo isso, conseguimos calcular o modelo de regressão.\n",
        "Agora, vamos calcular a correlação."
      ]
    },
    {
      "cell_type": "code",
      "execution_count": 11,
      "metadata": {},
      "outputs": [
        {
          "name": "stdout",
          "output_type": "stream",
          "text": [
            "A Correlação entre as váriaveis é:  0.9999813088152537\n"
          ]
        }
      ],
      "source": [
        "#Correlação \n",
        "# r = (Sxy)/((Sxx*Syy)**(1/2))\n",
        "\n",
        "\n",
        "r = (Sxy)/((Sxx*Syy)**(1/2))\n",
        "\n",
        "print(\"A Correlação entre as váriaveis é: \", r)"
      ]
    },
    {
      "cell_type": "markdown",
      "metadata": {},
      "source": [
        "Praticamente a Correlação é perfeita e positiva. Uma vez que 0,99997 é muito próximo de 1."
      ]
    },
    {
      "cell_type": "markdown",
      "metadata": {},
      "source": [
        "Feito isso, vamos calcular o intervalo de confiança dessa tabela."
      ]
    },
    {
      "cell_type": "code",
      "execution_count": 12,
      "metadata": {},
      "outputs": [
        {
          "name": "stdout",
          "output_type": "stream",
          "text": [
            "6.503891462180763\n",
            "0.975 5\n",
            "T de student usada:  2.571\n",
            "intervalo de confiança de b\n",
            "( 0.10021745561721564 ; 0.10021756593873864 )\n",
            "intervalo de confiança de a\n",
            "( -1.2429033767541253 ; 5.721837787868733 )\n",
            "intervalo de confiança da função\n",
            "( 231.74855950776978 ; 249.765726206516 )\n"
          ]
        }
      ],
      "source": [
        "##Intervalos de confiança\n",
        "n = tamTempo.__len__()\n",
        "s2 = (Syy - b*Sxy)/(tamTempo.__len__()-2)\n",
        "\n",
        "print(s2)\n",
        "##Descobrir a t de student\n",
        "##usando alfa = 0.05\n",
        "alfa = 0.05\n",
        "tAux1 = 1 - (alfa/2)\n",
        "tAux2 = n - 2\n",
        "\n",
        "\n",
        "##Parametros para descobrir a t de student\n",
        "print(tAux1, tAux2)\n",
        "\n",
        "\n",
        "\n",
        "\n",
        "t =  2.571  #4.773\n",
        "print(\"T de student usada: \", t)\n",
        "\n",
        "\n",
        "b1 = b - (t*s2)/((n*Sxx)**1/2)\n",
        "b2 = b + (t*s2)/((n*Sxx)**1/2)\n",
        "print(\"intervalo de confiança de b\")\n",
        "print(\"(\", b1,\";\", b2, \")\")\n",
        "\n",
        "\n",
        "\n",
        "a1 = a - ((t*s2)*(auxSomaSxx**1/2))/((n*Sxx)**1/2)\n",
        "a2 = a + ((t*s2)*(auxSomaSxx**1/2))/((n*Sxx)**1/2)\n",
        "print(\"intervalo de confiança de a\")\n",
        "print(\"(\", a1,\";\", a2, \")\")\n",
        "\n",
        "\n",
        "#fazer as formulas para y1 e y2\n",
        "#No caso, esse intevalo vai mudar para cada valor de x e portanto, de y.\n",
        "y1p = y - (t*s2)*((1+ (1/n)+((x-tamArq.mean()**2)/Sxx))**1/2)\n",
        "y2p = y + (t*s2)*((1+ (1/n)+((x-tamArq.mean()**2)/Sxx))**1/2)\n",
        "print(\"intervalo de confiança da função\")\n",
        "print(\"(\", y1p,\";\", y2p, \")\")\n"
      ]
    }
  ],
  "metadata": {
    "colab": {
      "name": "adsAV2P1Q1.ipynb",
      "provenance": []
    },
    "interpreter": {
      "hash": "2b09b04442854e19243637ba21f0185a513f3701ca24f383d6d0f5307b85515e"
    },
    "kernelspec": {
      "display_name": "Python 3.9.7 64-bit",
      "language": "python",
      "name": "python3"
    },
    "language_info": {
      "codemirror_mode": {
        "name": "ipython",
        "version": 3
      },
      "file_extension": ".py",
      "mimetype": "text/x-python",
      "name": "python",
      "nbconvert_exporter": "python",
      "pygments_lexer": "ipython3",
      "version": "3.9.7"
    }
  },
  "nbformat": 4,
  "nbformat_minor": 0
}

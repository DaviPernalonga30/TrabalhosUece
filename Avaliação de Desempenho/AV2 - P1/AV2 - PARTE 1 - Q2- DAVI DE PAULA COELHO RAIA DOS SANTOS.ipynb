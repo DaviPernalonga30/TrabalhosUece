{
 "cells": [
  {
   "cell_type": "code",
   "execution_count": 2,
   "metadata": {},
   "outputs": [],
   "source": [
    "import numpy as np\n",
    "import matplotlib.pyplot as mtp"
   ]
  },
  {
   "cell_type": "code",
   "execution_count": 3,
   "metadata": {},
   "outputs": [
    {
     "name": "stdout",
     "output_type": "stream",
     "text": [
      "Dados puros: \n",
      "[  9500  16000  23000  38000  62000 105000]\n",
      "Dados modificados (y* = ln y): \n",
      "[ 9.15904708  9.680344   10.04324949 10.54534144 11.03488966 11.56171563]\n"
     ]
    }
   ],
   "source": [
    "Transistor = np.array([9500, 16000, 23000, 38000, 62000, 105000])\n",
    "TransistorMod = np.log(Transistor)\n",
    "anos = np.array([1, 2, 3, 4, 5, 6])\n",
    "\n",
    "print(\"Dados puros: \")\n",
    "print(Transistor)\n",
    "print(\"Dados modificados (y* = ln y): \")\n",
    "print(TransistorMod)"
   ]
  },
  {
   "cell_type": "code",
   "execution_count": 4,
   "metadata": {},
   "outputs": [
    {
     "data": {
      "text/plain": [
       "[]"
      ]
     },
     "execution_count": 4,
     "metadata": {},
     "output_type": "execute_result"
    },
    {
     "data": {
      "image/png": "[encoded data removed]",
      "text/plain": [
       "<Figure size 432x288 with 1 Axes>"
      ]
     },
     "metadata": {
      "needs_background": "light"
     },
     "output_type": "display_data"
    }
   ],
   "source": [
    "mtp.scatter(anos, Transistor)\n",
    "mtp.xlabel(\"Anos\")\n",
    "mtp.ylabel(\"Transistores (Dados Puros)\")\n",
    "mtp.title(\"Transistores X Anos\")\n",
    "mtp.plot()\n",
    "\n",
    "\n",
    "\n"
   ]
  },
  {
   "cell_type": "code",
   "execution_count": 5,
   "metadata": {},
   "outputs": [
    {
     "data": {
      "text/plain": [
       "[]"
      ]
     },
     "execution_count": 5,
     "metadata": {},
     "output_type": "execute_result"
    },
    {
     "data": {
      "image/png": "[encoded data removed]",
      "text/plain": [
       "<Figure size 432x288 with 1 Axes>"
      ]
     },
     "metadata": {
      "needs_background": "light"
     },
     "output_type": "display_data"
    }
   ],
   "source": [
    "mtp.scatter(anos, TransistorMod)\n",
    "mtp.xlabel(\"Anos\")\n",
    "mtp.ylabel(\"Transistores (Dados Modificados)\")\n",
    "mtp.title(\"Transistores X Anos\")\n",
    "mtp.plot()"
   ]
  },
  {
   "cell_type": "code",
   "execution_count": 6,
   "metadata": {},
   "outputs": [
    {
     "name": "stdout",
     "output_type": "stream",
     "text": [
      "17.5\n"
     ]
    }
   ],
   "source": [
    "#Sxx\n",
    "#No caso, o X é o tempo em anos\n",
    "i = 0\n",
    "auxSomaSxx = 0\n",
    "auxSomaSxx2 = 0\n",
    "while i < anos.__len__():\n",
    "    auxSomaSxx = auxSomaSxx + (anos[i]**2)\n",
    "    auxSomaSxx2 = auxSomaSxx2 + anos[i]\n",
    "    i = i + 1\n",
    "Sxx = auxSomaSxx - (((auxSomaSxx2)**2)/anos.__len__()) \n",
    "\n",
    "\n",
    "print(Sxx)"
   ]
  },
  {
   "cell_type": "code",
   "execution_count": 14,
   "metadata": {},
   "outputs": [
    {
     "name": "stdout",
     "output_type": "stream",
     "text": [
      "3.9354429421947543\n"
     ]
    }
   ],
   "source": [
    "#Syy\n",
    "i = 0\n",
    "\n",
    "auxSomaSyy = 0\n",
    "auxSomaSyy2 = 0\n",
    "while i < TransistorMod.__len__():\n",
    "    auxSomaSyy = auxSomaSyy + (TransistorMod[i]**2)\n",
    "    auxSomaSyy2= auxSomaSyy2 + TransistorMod[i]\n",
    "    i = i + 1\n",
    "Syy = auxSomaSyy - (((auxSomaSyy2)**2)/TransistorMod.__len__())\n",
    "\n",
    "print(Syy)"
   ]
  },
  {
   "cell_type": "code",
   "execution_count": 15,
   "metadata": {},
   "outputs": [
    {
     "name": "stdout",
     "output_type": "stream",
     "text": [
      "8.28953584498413\n"
     ]
    }
   ],
   "source": [
    "#Sxy\n",
    "i = 0\n",
    "\n",
    "auxSomaSxy = 0\n",
    "auxSomaSxy2 = auxSomaSxx2 * auxSomaSyy2\n",
    "while i < anos.__len__():\n",
    "    auxSomaSxy = auxSomaSxy + (anos[i]*TransistorMod[i])\n",
    "    i = i + 1\n",
    "\n",
    "Sxy = auxSomaSxy - ((auxSomaSxy2)/TransistorMod.__len__())\n",
    "\n",
    "print(Sxy)"
   ]
  },
  {
   "cell_type": "code",
   "execution_count": 16,
   "metadata": {},
   "outputs": [
    {
     "name": "stdout",
     "output_type": "stream",
     "text": [
      "0.4736877625705217\n"
     ]
    }
   ],
   "source": [
    "#b\n",
    "b = Sxy/Sxx\n",
    "\n",
    "print(b)"
   ]
  },
  {
   "cell_type": "code",
   "execution_count": 20,
   "metadata": {},
   "outputs": [
    {
     "name": "stdout",
     "output_type": "stream",
     "text": [
      "Média de y: 10.337431217599542\n",
      "Média de x 3.5\n",
      "8.679524048602717\n"
     ]
    }
   ],
   "source": [
    "#calcular a:\n",
    "y = TransistorMod.mean() #[int((TransistorMod.__len__()/2))]\n",
    "x = anos.mean()          #[int((anos.__len__()/2))]\n",
    "\n",
    "a = y - b*x\n",
    "print(\"Média de y:\", y)\n",
    "print(\"Média de x\", x)\n",
    "print(a)"
   ]
  },
  {
   "cell_type": "code",
   "execution_count": 21,
   "metadata": {},
   "outputs": [
    {
     "name": "stdout",
     "output_type": "stream",
     "text": [
      "y quando o x está no ano 6(Calculado pela formula):  11.521650624025847\n",
      "y na tabela (ano = 6) (dados modificados):  11.56171562913966\n"
     ]
    }
   ],
   "source": [
    "#y\n",
    "y = a + b*x\n",
    "\n",
    "\n",
    "\n",
    "xK = anos[anos.__len__()-1]\n",
    "#para teste\n",
    "y = a + b*xK\n",
    "print(\"y quando o x está no ano 6(Calculado pela formula): \", y)\n",
    "print(\"y na tabela (ano = 6) (dados modificados): \", TransistorMod[TransistorMod.__len__()-1])\n",
    "\n",
    "y = a + b*x\n",
    "##ALGO ESTRANHO AQUI"
   ]
  },
  {
   "cell_type": "code",
   "execution_count": 22,
   "metadata": {},
   "outputs": [
    {
     "data": {
      "text/plain": [
       "[<matplotlib.lines.Line2D at 0x1be64f24ee0>]"
      ]
     },
     "execution_count": 22,
     "metadata": {},
     "output_type": "execute_result"
    },
    {
     "data": {
      "image/png": "[encoded data removed]",
      "text/plain": [
       "<Figure size 432x288 with 1 Axes>"
      ]
     },
     "metadata": {
      "needs_background": "light"
     },
     "output_type": "display_data"
    }
   ],
   "source": [
    "xAux = np.linspace(0, anos[anos.__len__()-1], 100)\n",
    "##Nessa linha fazemos o x ser uma serie de números para conseguirmos colocar \n",
    "##a reta y = a + b*x\n",
    "\n",
    "mtp.scatter(anos, TransistorMod)\n",
    "mtp.xlabel(\"Anos\")\n",
    "mtp.ylabel(\"Transistores (Dados modificados)\")\n",
    "mtp.plot(xAux, a + b*xAux)\n"
   ]
  },
  {
   "cell_type": "code",
   "execution_count": 23,
   "metadata": {},
   "outputs": [
    {
     "name": "stdout",
     "output_type": "stream",
     "text": [
      "A Correlação entre as váriaveis é:  0.9988824421698271\n"
     ]
    }
   ],
   "source": [
    "#Correlação \n",
    "# r = (Sxy)/((Sxx*Syy)**(1/2))\n",
    "\n",
    "\n",
    "r = (Sxy)/((Sxx*Syy)**(1/2))\n",
    "\n",
    "print(\"A Correlação entre as váriaveis é: \", r)"
   ]
  }
 ],
 "metadata": {
  "interpreter": {
   "hash": "2b09b04442854e19243637ba21f0185a513f3701ca24f383d6d0f5307b85515e"
  },
  "kernelspec": {
   "display_name": "Python 3.9.7 64-bit",
   "language": "python",
   "name": "python3"
  },
  "language_info": {
   "codemirror_mode": {
    "name": "ipython",
    "version": 3
   },
   "file_extension": ".py",
   "mimetype": "text/x-python",
   "name": "python",
   "nbconvert_exporter": "python",
   "pygments_lexer": "ipython3",
   "version": "3.9.7"
  },
  "orig_nbformat": 4
 },
 "nbformat": 4,
 "nbformat_minor": 2
}
